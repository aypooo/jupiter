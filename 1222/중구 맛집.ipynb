{
 "cells": [
  {
   "cell_type": "code",
   "execution_count": 1,
   "id": "16dc5c31",
   "metadata": {},
   "outputs": [],
   "source": [
    "import pandas as pd\n",
    "import numpy as np\n",
    "import matplotlib.pyplot as plt\n",
    "plt.rcParams['font.family'] = 'NanumGothic'"
   ]
  },
  {
   "cell_type": "code",
   "execution_count": 2,
   "id": "12482ea5",
   "metadata": {},
   "outputs": [
    {
     "data": {
      "text/html": [
       "<div>\n",
       "<style scoped>\n",
       "    .dataframe tbody tr th:only-of-type {\n",
       "        vertical-align: middle;\n",
       "    }\n",
       "\n",
       "    .dataframe tbody tr th {\n",
       "        vertical-align: top;\n",
       "    }\n",
       "\n",
       "    .dataframe thead th {\n",
       "        text-align: right;\n",
       "    }\n",
       "</style>\n",
       "<table border=\"1\" class=\"dataframe\">\n",
       "  <thead>\n",
       "    <tr style=\"text-align: right;\">\n",
       "      <th></th>\n",
       "      <th>분류</th>\n",
       "      <th>상호</th>\n",
       "      <th>도로명주소</th>\n",
       "      <th>지번주소</th>\n",
       "      <th>전화번호</th>\n",
       "      <th>위치</th>\n",
       "      <th>좌석수</th>\n",
       "      <th>이용시간</th>\n",
       "      <th>휴무일</th>\n",
       "      <th>주차장</th>\n",
       "      <th>메뉴</th>\n",
       "      <th>업태</th>\n",
       "      <th>코스</th>\n",
       "      <th>경도</th>\n",
       "      <th>위도</th>\n",
       "      <th>데이터기준일자</th>\n",
       "    </tr>\n",
       "  </thead>\n",
       "  <tbody>\n",
       "    <tr>\n",
       "      <th>0</th>\n",
       "      <td>맛락|묵은맛명가|모범음식점</td>\n",
       "      <td>교동따로식당</td>\n",
       "      <td>대구광역시 중구 경상감영1길 11(포정동)</td>\n",
       "      <td>대구광역시 중구 전동 27-1</td>\n",
       "      <td>053-254-8923</td>\n",
       "      <td>경상감영공원 근처</td>\n",
       "      <td>130석(4실)</td>\n",
       "      <td>00:00~24:00</td>\n",
       "      <td>없음</td>\n",
       "      <td>유료주차장</td>\n",
       "      <td>따로국밥 8,000 소고기국밥 8,000</td>\n",
       "      <td>한식</td>\n",
       "      <td>NaN</td>\n",
       "      <td>128.592875</td>\n",
       "      <td>35.871508</td>\n",
       "      <td>2020-01-14</td>\n",
       "    </tr>\n",
       "    <tr>\n",
       "      <th>1</th>\n",
       "      <td>골목투어</td>\n",
       "      <td>관음</td>\n",
       "      <td>대구광역시 중구 경상감영1길 53 (대안동)</td>\n",
       "      <td>대구광역시 중구 대안동 2-1</td>\n",
       "      <td>053-255-2775</td>\n",
       "      <td>대안성당에서 30m</td>\n",
       "      <td>80</td>\n",
       "      <td>07:00-21:00</td>\n",
       "      <td>설,추석명절</td>\n",
       "      <td>유료주차장</td>\n",
       "      <td>추어탕 7,000</td>\n",
       "      <td>한식</td>\n",
       "      <td>1코스</td>\n",
       "      <td>128.592747</td>\n",
       "      <td>35.873378</td>\n",
       "      <td>2020-01-14</td>\n",
       "    </tr>\n",
       "    <tr>\n",
       "      <th>2</th>\n",
       "      <td>맛락</td>\n",
       "      <td>유경식당</td>\n",
       "      <td>대구광역시 중구 경상감영길 101(포정동)</td>\n",
       "      <td>대구광역시 중구 포정동21-3</td>\n",
       "      <td>053-252-5098</td>\n",
       "      <td>경상감영공원 근처</td>\n",
       "      <td>52석</td>\n",
       "      <td>10:00~21:30</td>\n",
       "      <td>매주 일요일</td>\n",
       "      <td>유료주차장</td>\n",
       "      <td>대구탕 20,000 보리굴비 20,000 아구탕  12,000</td>\n",
       "      <td>한식</td>\n",
       "      <td>NaN</td>\n",
       "      <td>128.593103</td>\n",
       "      <td>35.872378</td>\n",
       "      <td>2020-01-14</td>\n",
       "    </tr>\n",
       "    <tr>\n",
       "      <th>3</th>\n",
       "      <td>모범음식점</td>\n",
       "      <td>푸르다코리아 경성상회</td>\n",
       "      <td>대구광역시 중구 공평로 30(삼덕2가, 지상 2층)</td>\n",
       "      <td>NaN</td>\n",
       "      <td>053-424-9967</td>\n",
       "      <td>NaN</td>\n",
       "      <td>98석</td>\n",
       "      <td>17:00~05:00</td>\n",
       "      <td>연중무휴</td>\n",
       "      <td>없음</td>\n",
       "      <td>경성갈비(소고기)반근: 18,000 돼지삼겹살반근: 18,000</td>\n",
       "      <td>한식</td>\n",
       "      <td>NaN</td>\n",
       "      <td>128.600184</td>\n",
       "      <td>35.866603</td>\n",
       "      <td>2020-01-14</td>\n",
       "    </tr>\n",
       "    <tr>\n",
       "      <th>4</th>\n",
       "      <td>맛락</td>\n",
       "      <td>하이타이</td>\n",
       "      <td>대구광역시 중구 공평로 53(공평동)</td>\n",
       "      <td>NaN</td>\n",
       "      <td>053-255-0562</td>\n",
       "      <td>삼덕지구대 인근</td>\n",
       "      <td>20석</td>\n",
       "      <td>11:30~21:30(쉬는시간 15:30~17:00)</td>\n",
       "      <td>매주 월요일</td>\n",
       "      <td>-</td>\n",
       "      <td>팟타이 10,000 똠양꿈 10,000~12,000</td>\n",
       "      <td>양식&amp;외국식</td>\n",
       "      <td>NaN</td>\n",
       "      <td>128.600358</td>\n",
       "      <td>35.867988</td>\n",
       "      <td>2020-01-14</td>\n",
       "    </tr>\n",
       "  </tbody>\n",
       "</table>\n",
       "</div>"
      ],
      "text/plain": [
       "               분류           상호                         도로명주소  \\\n",
       "0  맛락|묵은맛명가|모범음식점       교동따로식당       대구광역시 중구 경상감영1길 11(포정동)   \n",
       "1            골목투어           관음      대구광역시 중구 경상감영1길 53 (대안동)   \n",
       "2              맛락         유경식당       대구광역시 중구 경상감영길 101(포정동)   \n",
       "3           모범음식점  푸르다코리아 경성상회  대구광역시 중구 공평로 30(삼덕2가, 지상 2층)   \n",
       "4              맛락         하이타이          대구광역시 중구 공평로 53(공평동)   \n",
       "\n",
       "               지번주소          전화번호          위치       좌석수  \\\n",
       "0  대구광역시 중구 전동 27-1  053-254-8923   경상감영공원 근처  130석(4실)   \n",
       "1  대구광역시 중구 대안동 2-1  053-255-2775  대안성당에서 30m        80   \n",
       "2  대구광역시 중구 포정동21-3  053-252-5098   경상감영공원 근처       52석   \n",
       "3               NaN  053-424-9967         NaN       98석   \n",
       "4               NaN  053-255-0562    삼덕지구대 인근       20석   \n",
       "\n",
       "                            이용시간     휴무일    주차장  \\\n",
       "0                    00:00~24:00      없음  유료주차장   \n",
       "1                    07:00-21:00  설,추석명절  유료주차장   \n",
       "2                    10:00~21:30  매주 일요일  유료주차장   \n",
       "3                    17:00~05:00    연중무휴     없음   \n",
       "4  11:30~21:30(쉬는시간 15:30~17:00)  매주 월요일      -   \n",
       "\n",
       "                                    메뉴      업태   코스          경도         위도  \\\n",
       "0               따로국밥 8,000 소고기국밥 8,000      한식  NaN  128.592875  35.871508   \n",
       "1                            추어탕 7,000      한식  1코스  128.592747  35.873378   \n",
       "2   대구탕 20,000 보리굴비 20,000 아구탕  12,000      한식  NaN  128.593103  35.872378   \n",
       "3  경성갈비(소고기)반근: 18,000 돼지삼겹살반근: 18,000      한식  NaN  128.600184  35.866603   \n",
       "4         팟타이 10,000 똠양꿈 10,000~12,000  양식&외국식  NaN  128.600358  35.867988   \n",
       "\n",
       "      데이터기준일자  \n",
       "0  2020-01-14  \n",
       "1  2020-01-14  \n",
       "2  2020-01-14  \n",
       "3  2020-01-14  \n",
       "4  2020-01-14  "
      ]
     },
     "execution_count": 2,
     "metadata": {},
     "output_type": "execute_result"
    }
   ],
   "source": [
    "file_path = '../data/대구광역시 중구 맛집 현황_20200114.csv'\n",
    "restaurant = pd.read_csv(file_path, encoding= 'CP949')\n",
    "restaurant.head()"
   ]
  },
  {
   "cell_type": "code",
   "execution_count": 3,
   "id": "bbdc1d2d",
   "metadata": {},
   "outputs": [
    {
     "data": {
      "text/plain": [
       "['한식', '별식', '양식&', '일식', '찜갈비', '중식', '술한잔', '디저트', '양식', '식육(', '경양식', '차']"
      ]
     },
     "execution_count": 3,
     "metadata": {},
     "output_type": "execute_result"
    }
   ],
   "source": [
    "res_kindIdx = restaurant['업태'].str[:3].value_counts().index.tolist()\n",
    "res_kindIdx"
   ]
  },
  {
   "cell_type": "code",
   "execution_count": 4,
   "id": "76811215",
   "metadata": {},
   "outputs": [
    {
     "data": {
      "text/plain": [
       "[76, 19, 14, 12, 10, 6, 3, 2, 2, 1, 1, 1]"
      ]
     },
     "execution_count": 4,
     "metadata": {},
     "output_type": "execute_result"
    }
   ],
   "source": [
    "res_kindVal=restaurant['업태'].value_counts().tolist()\n",
    "res_kindVal"
   ]
  },
  {
   "cell_type": "code",
   "execution_count": 11,
   "id": "68e315df",
   "metadata": {
    "scrolled": true
   },
   "outputs": [
    {
     "data": {
      "image/png": "[encoded data removed]",
      "text/plain": [
       "<Figure size 432x288 with 1 Axes>"
      ]
     },
     "metadata": {},
     "output_type": "display_data"
    }
   ],
   "source": [
    "\n",
    "plt.pie(res_kindVal, labels =res_kindIdx, autopct = '%.0f%%', shadow = True)\n",
    "plt.title('업종별 분포')\n",
    "plt.show()"
   ]
  },
  {
   "cell_type": "code",
   "execution_count": 6,
   "id": "91f6b8aa",
   "metadata": {},
   "outputs": [
    {
     "data": {
      "text/plain": [
       "[22, 19, 18, 18, 14, 8, 7, 6, 5, 5, 4, 3, 3, 2, 2, 2, 2, 1, 1, 1, 1, 1, 1, 1]"
      ]
     },
     "execution_count": 6,
     "metadata": {},
     "output_type": "execute_result"
    }
   ],
   "source": [
    "res_adr =restaurant['도로명주소'].str[9:12].value_counts().tolist()\n",
    "res_adr"
   ]
  },
  {
   "cell_type": "code",
   "execution_count": 7,
   "id": "3c8de776",
   "metadata": {},
   "outputs": [
    {
     "data": {
      "text/plain": [
       "['동성로',\n",
       " '국채보',\n",
       " '중앙대',\n",
       " '동덕로',\n",
       " '달구벌',\n",
       " '서성로',\n",
       " '명덕로',\n",
       " '약령길',\n",
       " '종로 ',\n",
       " '남성로',\n",
       " '공평로',\n",
       " '명륜로',\n",
       " '경상감',\n",
       " '봉산문',\n",
       " '북성로',\n",
       " '달성공',\n",
       " '진골목',\n",
       " '대봉로',\n",
       " '달성로',\n",
       " '남산로',\n",
       " '교동길',\n",
       " '관덕정',\n",
       " '큰장로',\n",
       " '태평로']"
      ]
     },
     "execution_count": 7,
     "metadata": {},
     "output_type": "execute_result"
    }
   ],
   "source": [
    "res_adrIdx =restaurant['도로명주소'].str[9:12].value_counts().index.tolist()\n",
    "res_adrIdx"
   ]
  },
  {
   "cell_type": "code",
   "execution_count": 8,
   "id": "02503f75",
   "metadata": {},
   "outputs": [
    {
     "data": {
      "text/plain": [
       "Text(0.5, 1.0, '중구 맛집 구역별 분포도 ')"
      ]
     },
     "execution_count": 8,
     "metadata": {},
     "output_type": "execute_result"
    },
    {
     "data": {
      "image/png": "[encoded data removed]",
      "text/plain": [
       "<Figure size 432x288 with 1 Axes>"
      ]
     },
     "metadata": {
      "needs_background": "light"
     },
     "output_type": "display_data"
    }
   ],
   "source": [
    "\n",
    "x_pos = np.arange(len(res_adrIdx))\n",
    "bar_list = plt.bar(x_pos , res_adr, align='center',alpha = 0.5)\n",
    "plt.ylabel('점포 수')\n",
    "plt.title('중구 맛집 구역별 분포도 ')"
   ]
  },
  {
   "cell_type": "code",
   "execution_count": null,
   "id": "ca99dc2d",
   "metadata": {},
   "outputs": [],
   "source": []
  }
 ],
 "metadata": {
  "kernelspec": {
   "display_name": "Python 3 (ipykernel)",
   "language": "python",
   "name": "python3"
  },
  "language_info": {
   "codemirror_mode": {
    "name": "ipython",
    "version": 3
   },
   "file_extension": ".py",
   "mimetype": "text/x-python",
   "name": "python",
   "nbconvert_exporter": "python",
   "pygments_lexer": "ipython3",
   "version": "3.9.7"
  }
 },
 "nbformat": 4,
 "nbformat_minor": 5
}
